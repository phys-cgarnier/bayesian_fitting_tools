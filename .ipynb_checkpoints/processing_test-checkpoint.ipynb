{
 "cells": [
  {
   "cell_type": "code",
   "execution_count": 1,
   "id": "9390d00f",
   "metadata": {},
   "outputs": [],
   "source": [
    "from matplotlib import pyplot as plt\n",
    "import h5py\n",
    "import numpy as np\n",
    "import scipy.optimize\n",
    "from scipy.stats import rv_continuous, norm, beta, gamma\n",
    "from abc import ABC, abstractmethod\n",
    "import pprint\n",
    "from image_processing import ImageProcessor\n",
    "from roi import CircularROI, RectangularROI, ROI"
   ]
  },
  {
   "cell_type": "code",
   "execution_count": 2,
   "id": "67eba42f",
   "metadata": {},
   "outputs": [],
   "source": [
    "def read_file(fname):\n",
    "    with h5py.File(fname) as f:\n",
    "        images = f[\"images\"][:]\n",
    "    return images"
   ]
  },
  {
   "cell_type": "code",
   "execution_count": 3,
   "id": "e8a13654",
   "metadata": {},
   "outputs": [],
   "source": [
    "def get_projections(img):\n",
    "    x_projection = np.array(np.sum(img,axis=0))\n",
    "    y_projection = np.array(np.sum(img,axis=1))\n",
    "    return x_projection, y_projection"
   ]
  },
  {
   "cell_type": "code",
   "execution_count": 4,
   "id": "5722aa74",
   "metadata": {},
   "outputs": [
    {
     "name": "stdout",
     "output_type": "stream",
     "text": [
      "DYG14_1701969518.h5\n"
     ]
    }
   ],
   "source": [
    "img_list= ['DYG14_1701969512.h5','DYG14_1701969514.h5','DYG14_1701969516.h5','DYG14_1701969518.h5',\n",
    "           'DYG14_1701969528.h5','DYG14_1701969531.h5','DYG14_1701969533.h5','DYG14_1701969535.h5',\n",
    "           'DYG14_1701969538.h5','DYG14_1701969541.h5','OTRS_LTUS_417_1692292260.h5','OTRS_IN20_621_1696886871.h5']\n",
    "path = '/u/cd/cgarnier/beam_images/' + img_list[3]\n",
    "print(img_list[3])\n",
    "images = read_file(path)"
   ]
  },
  {
   "cell_type": "code",
   "execution_count": 5,
   "id": "a3688069",
   "metadata": {},
   "outputs": [],
   "source": [
    "raw_image = images[0,:,:]"
   ]
  },
  {
   "cell_type": "code",
   "execution_count": 6,
   "id": "4fd4fa18",
   "metadata": {},
   "outputs": [
    {
     "name": "stdout",
     "output_type": "stream",
     "text": [
      "[[0.0000e+00 8.0000e+01 1.3440e+02 ... 8.3200e+01 0.0000e+00 8.9600e+01]\n",
      " [0.0000e+00 1.6000e+01 5.1200e+01 ... 0.0000e+00 0.0000e+00 3.2000e+00]\n",
      " [1.3120e+02 0.0000e+00 6.7520e+02 ... 3.8976e+03 0.0000e+00 0.0000e+00]\n",
      " ...\n",
      " [1.2800e+02 2.5600e+01 9.2800e+01 ... 0.0000e+00 1.6000e+01 3.2000e+01]\n",
      " [2.2720e+02 0.0000e+00 6.4000e+00 ... 0.0000e+00 0.0000e+00 0.0000e+00]\n",
      " [3.2000e+00 0.0000e+00 7.3600e+01 ... 1.0240e+02 1.2160e+02 0.0000e+00]]\n",
      "[350.0, 350.0]\n"
     ]
    }
   ],
   "source": [
    "x_proj, y_proj = get_projections(raw_image)\n",
    "x_mean = np.argmax(x_proj)\n",
    "y_mean = np.argmax(y_proj)\n",
    "roi_c = np.array(raw_image.shape) / 2\n",
    "roi_radius = np.min((roi_c * 2, np.array(raw_image.shape))) / 2\n",
    "\n",
    "print(raw_image)\n",
    "print(list(roi_c))"
   ]
  },
  {
   "cell_type": "code",
   "execution_count": 7,
   "id": "4280a0ae",
   "metadata": {},
   "outputs": [
    {
     "name": "stdout",
     "output_type": "stream",
     "text": [
      "(700, 700)\n"
     ]
    }
   ],
   "source": [
    "print(raw_image.shape)"
   ]
  },
  {
   "cell_type": "code",
   "execution_count": 8,
   "id": "d8231c96",
   "metadata": {},
   "outputs": [
    {
     "name": "stdout",
     "output_type": "stream",
     "text": [
      "<class 'roi.RectangularROI'>\n"
     ]
    }
   ],
   "source": [
    "roi_obj = RectangularROI(roi_type='Rectangular',center= list(roi_c),xwidth=100,ywidth = 100)\n",
    "print(type(roi))"
   ]
  },
  {
   "cell_type": "code",
   "execution_count": 9,
   "id": "9825049e",
   "metadata": {},
   "outputs": [
    {
     "ename": "ValidationError",
     "evalue": "1 validation error for ImageProcessor\nroi_type\n  a class is expected (type=type_error.class)",
     "output_type": "error",
     "traceback": [
      "\u001b[0;31m---------------------------------------------------------------------------\u001b[0m",
      "\u001b[0;31mValidationError\u001b[0m                           Traceback (most recent call last)",
      "Input \u001b[0;32mIn [9]\u001b[0m, in \u001b[0;36m<cell line: 1>\u001b[0;34m()\u001b[0m\n\u001b[0;32m----> 1\u001b[0m image_processor \u001b[38;5;241m=\u001b[39m \u001b[43mImageProcessor\u001b[49m\u001b[43m(\u001b[49m\u001b[43mroi_type\u001b[49m\u001b[43m \u001b[49m\u001b[38;5;241;43m=\u001b[39;49m\u001b[43m \u001b[49m\u001b[43mRectangularROI\u001b[49m\u001b[43m(\u001b[49m\u001b[43mroi_type\u001b[49m\u001b[38;5;241;43m=\u001b[39;49m\u001b[38;5;124;43m'\u001b[39;49m\u001b[38;5;124;43mRectangular\u001b[39;49m\u001b[38;5;124;43m'\u001b[39;49m\u001b[43m,\u001b[49m\u001b[43mcenter\u001b[49m\u001b[38;5;241;43m=\u001b[39;49m\u001b[43m \u001b[49m\u001b[38;5;28;43mlist\u001b[39;49m\u001b[43m(\u001b[49m\u001b[43mroi_c\u001b[49m\u001b[43m)\u001b[49m\u001b[43m,\u001b[49m\u001b[43mxwidth\u001b[49m\u001b[38;5;241;43m=\u001b[39;49m\u001b[38;5;241;43m100\u001b[39;49m\u001b[43m,\u001b[49m\u001b[43mywidth\u001b[49m\u001b[43m \u001b[49m\u001b[38;5;241;43m=\u001b[39;49m\u001b[43m \u001b[49m\u001b[38;5;241;43m100\u001b[39;49m\u001b[43m)\u001b[49m\u001b[43m)\u001b[49m\n",
      "File \u001b[0;32m/afs/slac.stanford.edu/g/lcls/vol9/package/anaconda/envs/python3.8envs/v2.5/lib/python3.8/site-packages/pydantic/main.py:341\u001b[0m, in \u001b[0;36mpydantic.main.BaseModel.__init__\u001b[0;34m()\u001b[0m\n",
      "\u001b[0;31mValidationError\u001b[0m: 1 validation error for ImageProcessor\nroi_type\n  a class is expected (type=type_error.class)"
     ]
    }
   ],
   "source": [
    "image_processor = ImageProcessor(roi_type = roi_obj))"
   ]
  },
  {
   "cell_type": "code",
   "execution_count": null,
   "id": "74a6dae9",
   "metadata": {},
   "outputs": [],
   "source": [
    "print(image_processor.roi_type.xwidth)"
   ]
  },
  {
   "cell_type": "code",
   "execution_count": null,
   "id": "271fa7c5",
   "metadata": {},
   "outputs": [],
   "source": []
  }
 ],
 "metadata": {
  "kernelspec": {
   "display_name": "Python 3 (ipykernel)",
   "language": "python",
   "name": "python3"
  },
  "language_info": {
   "codemirror_mode": {
    "name": "ipython",
    "version": 3
   },
   "file_extension": ".py",
   "mimetype": "text/x-python",
   "name": "python",
   "nbconvert_exporter": "python",
   "pygments_lexer": "ipython3",
   "version": "3.8.13"
  }
 },
 "nbformat": 4,
 "nbformat_minor": 5
}
