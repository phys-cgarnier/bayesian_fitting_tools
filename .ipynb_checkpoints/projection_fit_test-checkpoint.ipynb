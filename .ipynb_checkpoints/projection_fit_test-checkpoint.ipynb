{
 "cells": [
  {
   "cell_type": "code",
   "execution_count": 1,
   "id": "7e53f8d2",
   "metadata": {},
   "outputs": [],
   "source": [
    "from projection_fit import ProjectionFit\n",
    "from matplotlib import pyplot as plt\n",
    "import h5py\n",
    "import numpy as np\n",
    "import pprint\n",
    "from image_processing import ImageProcessor\n",
    "from roi import CircularROI, RectangularROI, ROI\n",
    "from gaussian_model import GaussianModel"
   ]
  },
  {
   "cell_type": "code",
   "execution_count": 2,
   "id": "b5001e5d",
   "metadata": {},
   "outputs": [],
   "source": [
    "def read_file(fname):\n",
    "    with h5py.File(fname) as f:\n",
    "        images = f[\"images\"][:]\n",
    "    return images"
   ]
  },
  {
   "cell_type": "code",
   "execution_count": 3,
   "id": "7f82451f",
   "metadata": {},
   "outputs": [
    {
     "name": "stdout",
     "output_type": "stream",
     "text": [
      "DYG14_1701969518.h5\n"
     ]
    }
   ],
   "source": [
    "img_list= ['DYG14_1701969512.h5','DYG14_1701969514.h5','DYG14_1701969516.h5','DYG14_1701969518.h5',\n",
    "           'DYG14_1701969528.h5','DYG14_1701969531.h5','DYG14_1701969533.h5','DYG14_1701969535.h5',\n",
    "           'DYG14_1701969538.h5','DYG14_1701969541.h5','OTRS_LTUS_417_1692292260.h5','OTRS_IN20_621_1696886871.h5']\n",
    "path = '/u/cd/cgarnier/beam_images/' + img_list[3]\n",
    "print(img_list[3])\n",
    "images = read_file(path)\n",
    "raw_image = images[0,:,:]"
   ]
  },
  {
   "cell_type": "code",
   "execution_count": null,
   "id": "8e5e0a45",
   "metadata": {},
   "outputs": [],
   "source": []
  }
 ],
 "metadata": {
  "kernelspec": {
   "display_name": "Python 3 (ipykernel)",
   "language": "python",
   "name": "python3"
  },
  "language_info": {
   "codemirror_mode": {
    "name": "ipython",
    "version": 3
   },
   "file_extension": ".py",
   "mimetype": "text/x-python",
   "name": "python",
   "nbconvert_exporter": "python",
   "pygments_lexer": "ipython3",
   "version": "3.9.18"
  }
 },
 "nbformat": 4,
 "nbformat_minor": 5
}
